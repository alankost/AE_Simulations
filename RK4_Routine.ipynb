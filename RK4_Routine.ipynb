{
 "cells": [
  {
   "cell_type": "code",
   "execution_count": 56,
   "metadata": {},
   "outputs": [
    {
     "data": {
      "text/plain": [
       "array([1.01005017, 1.01005017, 1.01005017, 1.01005017, 1.01005017])"
      ]
     },
     "execution_count": 56,
     "metadata": {},
     "output_type": "execute_result"
    }
   ],
   "source": [
    "import numpy as np\n",
    "dx=0.01\n",
    "y=np.ones(5)\n",
    "dydx_m=np.eye(5)\n",
    "dy_0=np.ones(5)\n",
    "def rk4_step(y,dydx_m,dx):\n",
    " #   A single 4th Order Runge Kutta Step\n",
    "        k1 = dx*np.dot(dydx_m,y)\n",
    "        k2 = dx*np.dot(dydx_m,y+k1/2)\n",
    "        k3 = dx*np.dot(dydx_m,y+k2/2)\n",
    "        k4 = dx*np.dot(dydx_m,y+k3)\n",
    "        return y + k1/6 + k2/3 + k3/3 + k4/6\n",
    "rk4_step(y,dydx_m,dx)"
   ]
  },
  {
   "cell_type": "code",
   "execution_count": null,
   "metadata": {},
   "outputs": [],
   "source": []
  }
 ],
 "metadata": {
  "kernelspec": {
   "display_name": "Python 3",
   "language": "python",
   "name": "python3"
  },
  "language_info": {
   "codemirror_mode": {
    "name": "ipython",
    "version": 3
   },
   "file_extension": ".py",
   "mimetype": "text/x-python",
   "name": "python",
   "nbconvert_exporter": "python",
   "pygments_lexer": "ipython3",
   "version": "3.8.8"
  }
 },
 "nbformat": 4,
 "nbformat_minor": 4
}
