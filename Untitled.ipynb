{
 "cells": [
  {
   "cell_type": "code",
   "execution_count": 7,
   "id": "0a9d6659-7579-4e41-bc3e-539932683048",
   "metadata": {},
   "outputs": [],
   "source": [
    "import numpy as np\n",
    "from scipy import signal\n",
    "sig = np.repeat([0., 1., 0.], 100)\n",
    "win = signal.windows.hamming(50)\n",
    "filtered = signal.convolve(sig, win, mode='same') / sum(win)"
   ]
  },
  {
   "cell_type": "code",
   "execution_count": 8,
   "id": "c1925961-90fa-49eb-a4c7-8e112c929e17",
   "metadata": {},
   "outputs": [
    {
     "name": "stderr",
     "output_type": "stream",
     "text": [
      "Matplotlib is currently using module://matplotlib_inline.backend_inline, which is a non-GUI backend, so cannot show the figure.\n"
     ]
    },
    {
     "data": {
      "image/png": "[encoded data removed]",
      "text/plain": [
       "<Figure size 432x288 with 3 Axes>"
      ]
     },
     "metadata": {
      "needs_background": "light"
     },
     "output_type": "display_data"
    }
   ],
   "source": [
    "import matplotlib.pyplot as plt\n",
    "fig, (ax_orig, ax_win, ax_filt) = plt.subplots(3, 1, sharex=True)\n",
    "ax_orig.plot(sig)\n",
    "ax_orig.set_title('Original pulse')\n",
    "ax_orig.margins(0, 0.1)\n",
    "ax_win.plot(win)\n",
    "ax_win.set_title('Filter impulse response')\n",
    "ax_win.margins(0, 0.1)\n",
    "ax_filt.plot(filtered)\n",
    "ax_filt.set_title('Filtered signal')\n",
    "ax_filt.margins(0, 0.1)\n",
    "fig.tight_layout()\n",
    "fig.show()"
   ]
  },
  {
   "cell_type": "code",
   "execution_count": null,
   "id": "bc540b6b-fde0-4e49-867e-2fdb4314018b",
   "metadata": {},
   "outputs": [],
   "source": [
    "\"\"\"\n",
    "        fk2 = (-(fundamental+fk1/2)*signal1*raman_gain*stokesw1/fundamental_wavelength\n",
    "                              - (fundamental+fk1/2)*fiber_loss)*delta_L\n",
    "        fbk2 = (-(fund_back+fbk1/2)*signal1*raman_gain*stokesw1/fundamental_wavelength\n",
    "                              - (fund_back+fbk1/2)*fiber_loss)*delta_L\n",
    "        s1k2 = ((fundamental+fund_back)*(signal1+s1k1/2)*raman_gain\n",
    "                        -(signal1+s1k1/2)*signal2*raman_gain*stokesw2/stokesw1\n",
    "                        -(signal1+s1k1/2)*fiber_loss)*delta_L\n",
    "        s2k2 = (signal1*(signal2+s2k1/2)*raman_gain + signal1*raman_gain*hnu_signal2*raman_width_Hz/Aeff\n",
    "                         - (signal2+s2k1/2)*fiber_loss - (signal2+s2k1/2)*stokes2_loss)*delta_L\n",
    "        s3k2 = (signal2*(signal3+s3k1/2)*raman_gain + signal2*raman_gain*hnu_signal3*raman_width_Hz/Aeff\n",
    "                         - (signal3+s3k1/2)*fiber_loss - (signal3+s3k1/2)*stokes3_loss)*delta_L\n",
    "        s4k2 = (signal3*(signal4+s4k1/2)*raman_gain + signal3*raman_gain*hnu_signal4*raman_width_Hz/Aeff\n",
    "                         - (signal4+s4k1/2)*fiber_loss - (signal4+s4k1/2)*stokes4_loss)*delta_L\n",
    "        \n",
    "        fk3 = (-(fundamental+fk2/2)*signal1*raman_gain*stokesw1/fundamental_wavelength\n",
    "                              - (fundamental+fk2/2)*fiber_loss)*delta_L\n",
    "        fbk3 = (-(fund_back+fbk2/2)*signal1*raman_gain*stokesw1/fundamental_wavelength\n",
    "                              - (fund_back+fk2/2)*fiber_loss)*delta_L\n",
    "        s1k3 = ((fundamental+fund_back)*(signal1+s1k2/2)*raman_gain\n",
    "                        -(signal1+s1k2/2)*signal2*raman_gain*stokesw2/stokesw1\n",
    "                        -(signal1+s1k2/2)*fiber_loss)*delta_L\n",
    "        s2k3 = (signal1*(signal2+s2k2/2)*raman_gain + signal1*raman_gain*hnu_signal2*raman_width_Hz/Aeff\n",
    "                         - (signal2+s2k2/2)*fiber_loss - (signal2+s2k2/2)*stokes2_loss)*delta_L\n",
    "        s3k3 = (signal2*(signal3+s3k2/2)*raman_gain + signal2*raman_gain*hnu_signal3*raman_width_Hz/Aeff\n",
    "                         - (signal3+s3k2/2)*fiber_loss - (signal3+s3k2/2)*stokes3_loss)*delta_L\n",
    "        s4k3 = (signal3*(signal4+s4k2/2)*raman_gain + signal3*raman_gain*hnu_signal4*raman_width_Hz/Aeff\n",
    "                         - (signal4+s4k2/2)*fiber_loss - (signal4+s4k2/2)*stokes4_loss)*delta_L\n",
    "        \n",
    "        fk4 = (-(fundamental+fk3)*signal1*raman_gain*stokesw1/fundamental_wavelength\n",
    "                              - (fundamental+fk3)*fiber_loss)*delta_L\n",
    "        fbk4 = (-(fund_back+fbk3)*signal1*raman_gain*stokesw1/fundamental_wavelength\n",
    "                              - (fund_back+fk3)*fiber_loss)*delta_L\n",
    "        s1k4 = ((fundamental+fund_back)*(signal1+s1k3)*raman_gain\n",
    "                        -(signal1+s1k3)*signal2*raman_gain*stokesw2/stokesw1\n",
    "                        -(signal1+s1k3)*fiber_loss)*delta_L\n",
    "        s2k4 = (signal1*(signal2+s2k3)*raman_gain + signal1*raman_gain*hnu_signal2*raman_width_Hz/Aeff\n",
    "                         - (signal2+s2k3)*fiber_loss - (signal2+s2k3)*stokes2_loss)*delta_L\n",
    "        s3k4 = (signal2*(signal3+s3k3)*raman_gain + signal2*raman_gain*hnu_signal3*raman_width_Hz/Aeff\n",
    "                         - (signal3+s3k3)*fiber_loss - (signal3+s3k3)*stokes3_loss)*delta_L\n",
    "        s4k4 = (signal3*(signal4+s4k3)*raman_gain + signal3*raman_gain*hnu_signal4*raman_width_Hz/Aeff\n",
    "                         - (signal4+s4k3)*fiber_loss - (signal4+s4k3)*stokes4_loss)*delta_L\n",
    "\n",
    "        y=[fundamental,fund_back,signal1,signal2,signal3,signal4]\n",
    "        fundamental = fundamental + (fk1/6+fk2/3+fk3/3+fk4/6)*int_mask\n",
    "        fund_back = fund_back + (fbk1/6+fbk2/3+fbk3/3+fbk4/6)*int_mask\n",
    "        signal1 = signal1 + (s1k1/6+s1k2/3+s1k3/3+s1k4/6)*int_mask\n",
    "#        signal1 = convolve(convsignal,signal1,mode='same')\n",
    "        signal2 = signal2 + (s2k1/6+s2k2/3+s2k3/3+s2k4/6)*int_mask\n",
    "#        signal2 = convolve(convsignal,signal2,mode='same')    \n",
    "        signal3 = signal3 + (s3k1/6+s3k2/3+s3k3/3+s3k4/6)*int_mask\n",
    "#        signal3 = convolve(convsignal,signal3,mode='same')\n",
    "        signal4 = signal4 + (s4k1/6+s4k2/3+s4k3/3+s4k4/6)*int_mask\n",
    "#        signal4 = convolve(convsignal,signal4,mode='same')\n",
    "\"\"\""
   ]
  },
  {
   "cell_type": "code",
   "execution_count": null,
   "id": "92e8d7f6-83cc-4736-9fce-61d7acfa07c3",
   "metadata": {},
   "outputs": [],
   "source": [
    "    for i in range(int(round(N/(2*MM+1)/M))):\n",
    "        fund_back[int(round((MM+1)*L/delta_L))]=fund_forw[int(round((MM+1)*L/delta_L))]\n",
    "        fk1 = (-fund_forw*stokes1*raman_gain*stokesw1/fundamental_wavelength\n",
    "                              - fundamental*fiber_loss)*delta_L\n",
    "        fbk1 = (-fund_back*stokes1*raman_gain*stokesw1/fundamental_wavelength\n",
    "                              - fund_back*fiber_loss)*delta_L\n",
    "        s1k1 = ((fund_forw+fund_back)*stokes1*raman_gain-stokes1*stokes2*raman_gain*stokesw2/stokesw1\n",
    "                -stokes1*fiber_loss)*delta_L\n",
    "        s2k1 = (stokes1*stokes2*raman_gain + stokes1*raman_gain*hnu_stokes2*raman_width_Hz/Aeff\n",
    "                        -stokes2*stokes3*raman_gain*stokesw3/stokesw2\n",
    "                        - stokes2*fiber_loss - stokes2*stokes2_loss)*delta_L  \n",
    "        s3k1 = (stokes2*stokes3*raman_gain + stokes2*raman_gain*hnu_stokes3*raman_width_Hz/Aeff\n",
    "                        -stokes3*stokes4*raman_gain*stokesw4/stokesw3\n",
    "                         - stokes3*fiber_loss - stokes3*stokes3_loss)*delta_L\n",
    "        s4k1 = (stokes3*stokes4*raman_gain + stokes3*raman_gain*hnu_stokes4*raman_width_Hz/Aeff\n",
    "                        -stokes4*stokes5*raman_gain*stokesw5/stokesw4\n",
    "                        - stokes4*fiber_loss - stokes4*stokes4_loss)*delta_L  \n",
    "        s5k1 = (stokes4*stokes5*raman_gain + stokes4*raman_gain*hnu_stokes5*raman_width_Hz/Aeff\n",
    "                        -stokes5*stokes6*raman_gain*stokesw6/stokesw5\n",
    "                         - stokes5*fiber_loss - stokes5*stokes5_loss)*delta_L\n",
    "        s6k1 = (stokes5*stokes6*raman_gain + stokes5*raman_gain*hnu_stokes6*raman_width_Hz/Aeff\n",
    "                        -stokes6*stokes7*raman_gain*stokesw7/stokesw6\n",
    "                        - stokes6*fiber_loss - stokes6*stokes6_loss)*delta_L  \n",
    "        s7k1 = (stokes6*stokes7*raman_gain + stokes6*raman_gain*hnu_stokes7*raman_width_Hz/Aeff\n",
    "                        -stokes7*stokes8*raman_gain*stokesw8/stokesw7\n",
    "                         - stokes7*fiber_loss - stokes7*stokes7_loss)*delta_L\n",
    "        s8k1 = (stokes7*stokes8*raman_gain + stokes7*raman_gain*hnu_stokes8*raman_width_Hz/Aeff\n",
    "                         - stokes8*fiber_loss - stokes8*stokes8_loss)*delta_L\n"
   ]
  }
 ],
 "metadata": {
  "kernelspec": {
   "display_name": "Python 3 (ipykernel)",
   "language": "python",
   "name": "python3"
  },
  "language_info": {
   "codemirror_mode": {
    "name": "ipython",
    "version": 3
   },
   "file_extension": ".py",
   "mimetype": "text/x-python",
   "name": "python",
   "nbconvert_exporter": "python",
   "pygments_lexer": "ipython3",
   "version": "3.7.11"
  }
 },
 "nbformat": 4,
 "nbformat_minor": 5
}
